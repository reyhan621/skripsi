{
  "cells": [
    {
      "cell_type": "code",
      "execution_count": null,
      "metadata": {
        "id": "0D7-SvhRbWvo"
      },
      "outputs": [],
      "source": [
        "from google.colab import drive\n",
        "drive.mount('/content/gdrive')"
      ]
    },
    {
      "cell_type": "code",
      "execution_count": null,
      "metadata": {
        "id": "HJXMvRxsbjZN"
      },
      "outputs": [],
      "source": [
        "import pandas as pd\n",
        "penjualan = pd.read_csv('/content/gdrive/MyDrive/Skripsi/Online-Retail.csv', encoding = 'unicode_escape')"
      ]
    },
    {
      "cell_type": "markdown",
      "source": [
        "# Bagian Baru"
      ],
      "metadata": {
        "id": "7UQKFRSr-Uff"
      }
    },
    {
      "cell_type": "code",
      "source": [
        "from google.colab import drive\n",
        "drive.mount('/content/drive')"
      ],
      "metadata": {
        "id": "YLQmnqt7yk5X"
      },
      "execution_count": null,
      "outputs": []
    },
    {
      "cell_type": "code",
      "source": [
        "penjualan.shape"
      ],
      "metadata": {
        "id": "K3uF4p0yfpqM"
      },
      "execution_count": null,
      "outputs": []
    },
    {
      "cell_type": "code",
      "source": [
        "penjualan.head()"
      ],
      "metadata": {
        "id": "Pt2Vq5OafzrD"
      },
      "execution_count": null,
      "outputs": []
    },
    {
      "cell_type": "code",
      "execution_count": null,
      "metadata": {
        "id": "bU4f2HgRIbTF"
      },
      "outputs": [],
      "source": [
        "penjualan.describe()"
      ]
    },
    {
      "cell_type": "code",
      "execution_count": null,
      "metadata": {
        "id": "Z7tZQL4ubr-8"
      },
      "outputs": [],
      "source": [
        "penjualan[\"InvoiceDate\"] = pd.to_datetime(penjualan[\"InvoiceDate\"])\n",
        "penjualan[\"Sales\"] = penjualan[\"UnitPrice\"]*penjualan[\"Quantity\"]\n",
        "penjualan[\"Recency\"] = penjualan[\"InvoiceDate\"]\n",
        "penjualan[\"Frequency\"] = penjualan[\"CustomerID\"]\n",
        "penjualan[\"Monetary\"] = penjualan[\"Sales\"]"
      ]
    },
    {
      "cell_type": "code",
      "execution_count": null,
      "metadata": {
        "id": "GpIUoqXwc0r_"
      },
      "outputs": [],
      "source": [
        "count_row_with_nan = penjualan.isnull().any(axis=1).sum()\n",
        "\n",
        "print ('Count rows with NaN: ' + str(count_row_with_nan))\n",
        "\n",
        "count_neg_sales = (penjualan['UnitPrice'] < 0).sum()\n",
        "count_neg_quantity = (penjualan['Quantity'] < 0).sum()\n",
        "\n",
        "print ('Count rows with negative values of UnitPrice: ' + str(count_neg_sales))\n",
        "print ('Count rows with negative values of Quantity: ' + str(count_neg_quantity))\n",
        "\n",
        "\n"
      ]
    },
    {
      "cell_type": "code",
      "execution_count": null,
      "metadata": {
        "id": "DbFdtiIqdbMO"
      },
      "outputs": [],
      "source": [
        "penjualan.isna().sum()"
      ]
    },
    {
      "cell_type": "code",
      "execution_count": null,
      "metadata": {
        "id": "3U0kQOLHvcSL"
      },
      "outputs": [],
      "source": [
        "penjualan[(penjualan['Quantity'] < 0) | (penjualan.isna().any(axis=1)) | (penjualan['UnitPrice'] < 0)]"
      ]
    },
    {
      "cell_type": "code",
      "execution_count": null,
      "metadata": {
        "id": "BJNXo0Jd27qu"
      },
      "outputs": [],
      "source": [
        "penjualan[(penjualan['Quantity'] >= 0) & (penjualan['UnitPrice'] >= 0)]"
      ]
    },
    {
      "cell_type": "code",
      "execution_count": null,
      "metadata": {
        "id": "hrAAqMvXc7W9"
      },
      "outputs": [],
      "source": [
        "penjualan.info()"
      ]
    },
    {
      "cell_type": "markdown",
      "metadata": {
        "id": "u6dAlP1Mw1Oe"
      },
      "source": [
        "Drop Data Negatif"
      ]
    },
    {
      "cell_type": "code",
      "execution_count": null,
      "metadata": {
        "id": "H4k-gqhL2Uyh"
      },
      "outputs": [],
      "source": [
        "neg_quantity_and_price = penjualan[(penjualan['Quantity'] < 0) |\n",
        "                                   (penjualan['UnitPrice'] < 0)].index\n",
        "penjualan.drop(neg_quantity_and_price, inplace=True)"
      ]
    },
    {
      "cell_type": "code",
      "source": [
        "penjualan.describe()"
      ],
      "metadata": {
        "id": "k4eblTNwk8zr"
      },
      "execution_count": null,
      "outputs": []
    },
    {
      "cell_type": "code",
      "execution_count": null,
      "metadata": {
        "id": "bpiKbMRy3FVG"
      },
      "outputs": [],
      "source": [
        "penjualan.info()"
      ]
    },
    {
      "cell_type": "code",
      "source": [
        "penjualan.isna().sum()"
      ],
      "metadata": {
        "id": "gQcH-ABGvITI"
      },
      "execution_count": null,
      "outputs": []
    },
    {
      "cell_type": "code",
      "source": [
        "penjualan['CustomerID'].count()"
      ],
      "metadata": {
        "id": "qrSrddtjoXtK"
      },
      "execution_count": null,
      "outputs": []
    },
    {
      "cell_type": "code",
      "source": [
        "penjualan['CustomerID'].nunique()"
      ],
      "metadata": {
        "id": "NOWj1C0rtA9k"
      },
      "execution_count": null,
      "outputs": []
    },
    {
      "cell_type": "code",
      "source": [
        "count_row_with_nan = penjualan.isnull().any(axis=1).sum()\n",
        "print ('Count rows with NaN: ' + str(count_row_with_nan))\n",
        "count_neg_sales = (penjualan['UnitPrice'] < 0).sum()\n",
        "count_neg_quantity = (penjualan['Quantity'] < 0).sum()\n",
        "\n",
        "print ('Count rows with negative values of UnitPrice: ' + str(count_neg_sales))\n",
        "print ('Count rows with negative values of Quantity: ' + str(count_neg_quantity))"
      ],
      "metadata": {
        "id": "O1brRkSktfrt"
      },
      "execution_count": null,
      "outputs": []
    },
    {
      "cell_type": "code",
      "execution_count": null,
      "metadata": {
        "id": "q_3g3W7sb3iu"
      },
      "outputs": [],
      "source": [
        "import datetime as dt\n",
        "PRESENT = dt.datetime(2011, 12, 31)\n",
        "penjualan_rfm = penjualan.groupby('CustomerID').agg({'Recency': lambda date: (PRESENT - date.max()).days,\n",
        "                                                    'Frequency': lambda num: len(num),\n",
        "                                                    'Monetary': lambda price: price.sum()}).reset_index()"
      ]
    },
    {
      "cell_type": "code",
      "source": [
        "penjualan_rfm"
      ],
      "metadata": {
        "id": "9ZhdYcNNVh-O"
      },
      "execution_count": null,
      "outputs": []
    },
    {
      "cell_type": "code",
      "execution_count": null,
      "metadata": {
        "id": "1cCGvVbNkrXd"
      },
      "outputs": [],
      "source": [
        "count_row_with_nan = penjualan_rfm.isnull().any(axis=1).sum()\n",
        "print ('Count rows with NaN: ' + str(count_row_with_nan))\n",
        "count_neg_sales = (penjualan['UnitPrice'] < 0).sum()\n",
        "count_neg_quantity = (penjualan['Quantity'] < 0).sum()\n",
        "\n",
        "print ('Count rows with negative values of UnitPrice: ' + str(count_neg_sales))\n",
        "print ('Count rows with negative values of Quantity: ' + str(count_neg_quantity))"
      ]
    },
    {
      "cell_type": "code",
      "execution_count": null,
      "metadata": {
        "id": "Uf5DzScBmgtn"
      },
      "outputs": [],
      "source": [
        "penjualan_rfm.loc[penjualan_rfm['Monetary'] >= 100000]"
      ]
    },
    {
      "cell_type": "code",
      "execution_count": null,
      "metadata": {
        "id": "8tczQws0d_do"
      },
      "outputs": [],
      "source": [
        "penjualan_rfm.info()"
      ]
    },
    {
      "cell_type": "code",
      "execution_count": null,
      "metadata": {
        "id": "dhbULDcIhSm3"
      },
      "outputs": [],
      "source": [
        "penjualan_rfm[\"Monetary\"].describe()"
      ]
    },
    {
      "cell_type": "code",
      "execution_count": null,
      "metadata": {
        "id": "wcihYvHaTfLq"
      },
      "outputs": [],
      "source": [
        "cols = list(penjualan_rfm.columns)\n",
        "cols.remove(\"CustomerID\")\n",
        "penjualan_rfm[cols]"
      ]
    },
    {
      "cell_type": "code",
      "execution_count": null,
      "metadata": {
        "id": "tUC2GDly11HZ"
      },
      "outputs": [],
      "source": [
        "for col in cols:\n",
        "    col_zscore = col + '_zscore'\n",
        "    penjualan_rfm[col_zscore] = (penjualan_rfm[col] - penjualan_rfm[col].mean())/penjualan_rfm[col].std(ddof=0)\n",
        "penjualan_rfm"
      ]
    },
    {
      "cell_type": "code",
      "execution_count": null,
      "metadata": {
        "id": "DET-f61DE4Pj"
      },
      "outputs": [],
      "source": [
        "penjualan_rfm[\"Outlier\"] = ((abs(penjualan_rfm[\"Monetary_zscore\"])>3).astype(int) |\n",
        "                            (abs(penjualan_rfm[\"Frequency_zscore\"])>3) |\n",
        "                             (abs(penjualan_rfm[\"Recency_zscore\"])>3)).astype(int)"
      ]
    },
    {
      "cell_type": "code",
      "execution_count": null,
      "metadata": {
        "id": "wBSqt3P5HjQV"
      },
      "outputs": [],
      "source": [
        "penjualan_rfm.head()"
      ]
    },
    {
      "cell_type": "code",
      "execution_count": null,
      "metadata": {
        "id": "2ESCVCeiHo24"
      },
      "outputs": [],
      "source": [
        "penjualan_rfm[penjualan_rfm[\"Outlier\"] == 1].count()"
      ]
    },
    {
      "cell_type": "code",
      "execution_count": null,
      "metadata": {
        "id": "w-ik6H8C_kmf"
      },
      "outputs": [],
      "source": [
        "outlier = penjualan_rfm[penjualan_rfm[\"Outlier\"] == 1].index\n",
        "penjualan_rfm.drop(outlier, inplace=True)"
      ]
    },
    {
      "cell_type": "code",
      "execution_count": null,
      "metadata": {
        "id": "GSUC10UoAEe2"
      },
      "outputs": [],
      "source": [
        "penjualan_rfm[penjualan_rfm[\"Outlier\"] == 1].count()"
      ]
    },
    {
      "cell_type": "code",
      "execution_count": null,
      "metadata": {
        "id": "Srb3Pf884Oyi"
      },
      "outputs": [],
      "source": [
        "penjualan_rfm['CustomerID'].count()"
      ]
    },
    {
      "cell_type": "markdown",
      "metadata": {
        "id": "1Ng9ZNNbLUs3"
      },
      "source": [
        "### GO"
      ]
    },
    {
      "cell_type": "code",
      "execution_count": null,
      "metadata": {
        "id": "TjeA8aTOb57U"
      },
      "outputs": [],
      "source": [
        "penjualan_rfm['recency_val'] = pd.qcut(penjualan_rfm['Recency'].rank(method=\"first\"), q=3, labels=['1','2','3'])\n",
        "penjualan_rfm['frequency_val'] = pd.qcut(penjualan_rfm['Frequency'].rank(method=\"first\"), q=3, labels=['3','2','1'])\n",
        "penjualan_rfm['monetary_val'] = pd.qcut(penjualan_rfm['Monetary'].rank(method=\"first\"), q=3, labels=['3','2','1'])"
      ]
    },
    {
      "cell_type": "code",
      "execution_count": null,
      "metadata": {
        "id": "6VszVh3Yb-bU"
      },
      "outputs": [],
      "source": [
        "# penjualan_rfm['RFM Group'] = penjualan_rfm.recency_val.astype(str) + penjualan_rfm.frequency_val.astype(str)\n",
        "penjualan_rfm['RFM Score'] = penjualan_rfm[['recency_val', 'frequency_val', 'monetary_val']].astype(int).sum(axis=1)\n",
        "\n",
        "penjualan_rfm = penjualan_rfm.sort_values(by=\"RFM Score\", ascending=True).reset_index(drop=True)\n"
      ]
    },
    {
      "cell_type": "code",
      "execution_count": null,
      "metadata": {
        "id": "9jL4z3XBcASE"
      },
      "outputs": [],
      "source": [
        "# def rfm_level(df):\n",
        "#     if (df['RFM Score'] == 9):\n",
        "#         return 'Needs Attention'\n",
        "#     elif ((df['RFM Score'] >= 6) and (df['RFM Score'] <= 8)):\n",
        "#         return 'Promising'\n",
        "#     elif ((df['RFM Score'] >= 3) and (df['RFM Score'] <= 5)):\n",
        "#         return 'Loyal'\n",
        "# penjualan_rfm['RFM Level'] = penjualan_rfm.apply(rfm_level, axis=1)"
      ]
    },
    {
      "cell_type": "code",
      "execution_count": null,
      "metadata": {
        "id": "_1e_Xlb3BEEV"
      },
      "outputs": [],
      "source": [
        "rfm_level = ['loyal', 'promising','need attention']\n",
        "score_cuts = pd.qcut(penjualan_rfm['RFM Score'].rank(method='first'), q=3, labels = rfm_level)\n",
        "penjualan_rfm['RFM Level'] = score_cuts.values\n",
        "penjualan_rfm"
      ]
    },
    {
      "cell_type": "code",
      "execution_count": null,
      "metadata": {
        "id": "w_RtTTNDg5Rt"
      },
      "outputs": [],
      "source": [
        "penjualan_rfm[\"Monetary\"].describe()"
      ]
    },
    {
      "cell_type": "code",
      "execution_count": null,
      "metadata": {
        "id": "n_cb9zmocBF8"
      },
      "outputs": [],
      "source": [
        "import plotly.express as px\n",
        "\n",
        "x_rfm = 'Recency'\n",
        "y_rfm = 'Frequency'\n",
        "z_rfm = 'Monetary'\n",
        "\n",
        "fig = px.scatter_3d(penjualan_rfm, x=x_rfm, y=y_rfm, z=z_rfm, color=\"RFM Level\", labels=\"RFM Level\")\n",
        "fig.show()"
      ]
    },
    {
      "cell_type": "markdown",
      "metadata": {
        "id": "4VCyfjlUARyo"
      },
      "source": []
    },
    {
      "cell_type": "code",
      "execution_count": null,
      "metadata": {
        "id": "8bGrAunapkSi"
      },
      "outputs": [],
      "source": [
        "loyal = penjualan_rfm['RFM Level'].value_counts()['loyal']\n",
        "promising = penjualan_rfm['RFM Level'].value_counts()['promising']\n",
        "need_attention = penjualan_rfm['RFM Level'].value_counts()['need attention']\n",
        "print(\"Loyal: \", loyal)\n",
        "print(\"Promising: \", promising)\n",
        "print(\"Need attention: \", need_attention)"
      ]
    },
    {
      "cell_type": "code",
      "source": [
        "pip install pywedge"
      ],
      "metadata": {
        "id": "oyQ9UCKXZIHm"
      },
      "execution_count": null,
      "outputs": []
    },
    {
      "cell_type": "code",
      "source": [
        "import pywedge as pw\n",
        "import pandas as pd\n"
      ],
      "metadata": {
        "id": "0DxH6bQzZWtX"
      },
      "execution_count": null,
      "outputs": []
    },
    {
      "cell_type": "code",
      "source": [
        "penjualan = pd.read_csv('/content/gdrive/MyDrive/Skripsi/Online-Retail.csv', encoding = 'unicode_escape')"
      ],
      "metadata": {
        "id": "Ghm03Pp2ZerF"
      },
      "execution_count": null,
      "outputs": []
    },
    {
      "cell_type": "code",
      "source": [
        "mc = pw.Pywedge_Charts(penjualan, c=None, y = \"Country\")"
      ],
      "metadata": {
        "id": "rfgGJgl9Zoso"
      },
      "execution_count": null,
      "outputs": []
    },
    {
      "cell_type": "code",
      "source": [
        "charts = mc.make_charts()"
      ],
      "metadata": {
        "id": "EvtPPeytZ-49"
      },
      "execution_count": null,
      "outputs": []
    },
    {
      "cell_type": "code",
      "source": [
        "import matplotlib.pyplot as plt\n",
        "import pandas as pd\n",
        "import seaborn as sns\n",
        "import numpy as np\n"
      ],
      "metadata": {
        "id": "tD82YNpXoawe"
      },
      "execution_count": null,
      "outputs": []
    },
    {
      "cell_type": "code",
      "source": [
        "pie = [np.count_nonzero(penjualan_rfm['RFM Level'] == 'loyal'),np.count_nonzero(penjualan_rfm['RFM Level'] == 'promising'),np.count_nonzero(penjualan_rfm['RFM Level'] == 'need attention')]\n",
        "label = ['loyal','promising','need attention']\n",
        "plt.title ('p')\n",
        "plt.pie(pie, labels=label, radius=1.3,startangle=60, autopct='%.1f%%', shadow=True)\n",
        "plt.show"
      ],
      "metadata": {
        "id": "WF0isiNZnD42"
      },
      "execution_count": null,
      "outputs": []
    },
    {
      "cell_type": "code",
      "execution_count": null,
      "metadata": {
        "id": "TusqIuM5a-8_"
      },
      "outputs": [],
      "source": [
        "from sklearn.metrics import silhouette_score\n",
        "from sklearn.metrics import davies_bouldin_score\n",
        "from sklearn import metrics\n",
        "\n",
        "silhouette_avg = silhouette_score(penjualan_rfm[['Recency','Frequency','Monetary']], penjualan_rfm['RFM Level'])\n",
        "davies_bouldin_score = davies_bouldin_score(penjualan_rfm[['Recency','Frequency','Monetary']], penjualan_rfm['RFM Level'])\n",
        "calinski_harabasz_score = metrics.calinski_harabasz_score(penjualan_rfm[['Recency','Frequency','Monetary']], penjualan_rfm['RFM Level'])\n",
        "print(\"Silhouette Score: \",silhouette_avg)\n",
        "print(\"Davies Bouldin Score: \",davies_bouldin_score)\n",
        "print(\"Calinski Harabasz Score: \",calinski_harabasz_score)\n",
        "\n"
      ]
    },
    {
      "cell_type": "code",
      "execution_count": null,
      "metadata": {
        "id": "bbH9LGJspl5r"
      },
      "outputs": [],
      "source": [
        "penjualan_rfm[cols]"
      ]
    },
    {
      "cell_type": "code",
      "execution_count": null,
      "metadata": {
        "id": "a2qQ9SRnqhjK"
      },
      "outputs": [],
      "source": [
        "penjualan_rfm[cols[0]]"
      ]
    },
    {
      "cell_type": "code",
      "execution_count": null,
      "metadata": {
        "id": "T_xSI1_UrIek"
      },
      "outputs": [],
      "source": [
        "penjualan_rfm[penjualan_rfm[\"RFM Level\"] == 'loyal']"
      ]
    },
    {
      "cell_type": "code",
      "execution_count": null,
      "metadata": {
        "id": "N7bUxkhItwcQ"
      },
      "outputs": [],
      "source": [
        "penjualan_rfm['Recency_zscore'].describe()"
      ]
    },
    {
      "cell_type": "code",
      "execution_count": null,
      "metadata": {
        "id": "po-zHOqVt9a3"
      },
      "outputs": [],
      "source": [
        "penjualan_rfm['Monetary_zscore'].describe()"
      ]
    },
    {
      "cell_type": "code",
      "execution_count": null,
      "metadata": {
        "id": "g7TtHG0zuJq_"
      },
      "outputs": [],
      "source": [
        "penjualan_rfm['Frequency_zscore'].describe()"
      ]
    },
    {
      "cell_type": "code",
      "execution_count": null,
      "metadata": {
        "id": "ht4hHuw9Gq3P"
      },
      "outputs": [],
      "source": [
        "# fig = px.line(penjualan_rfm, x=['Recency', 'Frequency', 'Monetary'], y=[penjualan_rfm['Recency_zscore'], penjualan_rfm['Frequency_zscore'], penjualan_rfm['Monetary_zscore']], color='RFM Level')\n",
        "# fig.update_layout(xaxis_title='Variables', yaxis_title='Z-Score')\n",
        "# fig.show()"
      ]
    },
    {
      "cell_type": "markdown",
      "source": [
        "# **FUZZY C MEANS**"
      ],
      "metadata": {
        "id": "56Nf5DUf0_a2"
      }
    },
    {
      "cell_type": "code",
      "source": [
        "!pip install scikit-fuzzy\n"
      ],
      "metadata": {
        "id": "gUvT3JPu1_Yl"
      },
      "execution_count": null,
      "outputs": []
    },
    {
      "cell_type": "code",
      "source": [
        "import pandas as pd\n",
        "import numpy as np\n",
        "import skfuzzy as fuzz\n",
        "from sklearn.preprocessing import MinMaxScaler\n",
        "\n",
        "# Load your dataset (replace with your dataset file)\n",
        "penjualan = pd.read_csv(\"/content/drive/MyDrive/Skripsi/Online-Retail.csv\")\n",
        "\n"
      ],
      "metadata": {
        "id": "mnh7yvCH1QTV"
      },
      "execution_count": null,
      "outputs": []
    },
    {
      "cell_type": "code",
      "source": [
        "# Extract Recency, Frequency, and Monetary columns\n",
        "recency = penjualan_rfm['Recency'].values\n",
        "frequency = penjualan_rfm['Frequency'].values\n",
        "monetary = penjualan_rfm['Monetary'].values"
      ],
      "metadata": {
        "id": "qhtp-h-s1QXF"
      },
      "execution_count": null,
      "outputs": []
    },
    {
      "cell_type": "code",
      "source": [
        "# Normalize the data using Min-Max scaling\n",
        "scaler = MinMaxScaler()\n",
        "recency = scaler.fit_transform(recency.reshape(-1, 1))\n",
        "frequency = scaler.fit_transform(frequency.reshape(-1, 1))\n",
        "monetary = scaler.fit_transform(monetary.reshape(-1, 1))"
      ],
      "metadata": {
        "id": "qQDMNgBM22pu"
      },
      "execution_count": null,
      "outputs": []
    },
    {
      "cell_type": "code",
      "source": [
        "# Combine normalized features into a single dataset\n",
        "normalized_data = np.column_stack((recency, frequency, monetary))"
      ],
      "metadata": {
        "id": "Nm5w0LdS25B6"
      },
      "execution_count": null,
      "outputs": []
    },
    {
      "cell_type": "code",
      "source": [
        "# Define FCM variables and universe ranges\n",
        "# You can adjust these ranges based on your data distribution\n",
        "recency_universe = np.arange(0, 1.1, 0.1)\n",
        "frequency_universe = np.arange(0, 1.1, 0.1)\n",
        "monetary_universe = np.arange(0, 1.1, 0.1)"
      ],
      "metadata": {
        "id": "4feZ1_IO2722"
      },
      "execution_count": null,
      "outputs": []
    },
    {
      "cell_type": "code",
      "source": [
        "# Create FCM model\n",
        "cntr, u, u0, d, jm, p, fpc = fuzz.cluster.cmeans(\n",
        "    normalized_data.T, c=3, m=2, error=0.005, maxiter=1000, init=None\n",
        ")"
      ],
      "metadata": {
        "id": "e_2NzUaA2-Ru"
      },
      "execution_count": null,
      "outputs": []
    },
    {
      "cell_type": "code",
      "source": [
        "# Assign each data point to the cluster with the highest membership\n",
        "cluster_labels = np.argmax(u, axis=0)"
      ],
      "metadata": {
        "id": "wj0k_WlI3AlX"
      },
      "execution_count": null,
      "outputs": []
    },
    {
      "cell_type": "code",
      "source": [
        "# Print cluster labels (replace with further analysis)\n",
        "print(\"Cluster Labels:\", cluster_labels)"
      ],
      "metadata": {
        "id": "ZY9ydzDW3Cq1"
      },
      "execution_count": null,
      "outputs": []
    },
    {
      "cell_type": "code",
      "source": [
        "import matplotlib.pyplot as plt\n",
        "\n",
        "# Assuming you have 'cluster_labels' from the FCM results\n",
        "# Scatter plot for Recency-Frequency\n",
        "plt.scatter(normalized_data[:, 0], normalized_data[:, 1], c=cluster_labels, cmap='viridis')\n",
        "plt.xlabel('Recency')\n",
        "plt.ylabel('Frequency')\n",
        "plt.title('FCM Clustering: Recency, Frequency, Monetary')\n",
        "plt.show()\n"
      ],
      "metadata": {
        "id": "ceMXSAAS3OBu"
      },
      "execution_count": null,
      "outputs": []
    },
    {
      "cell_type": "code",
      "source": [
        "import plotly.express as px\n",
        "\n",
        "x_rfm = 'Recency'\n",
        "y_rfm = 'Frequency'\n",
        "z_rfm = 'Monetary'\n",
        "\n",
        "fig = px.scatter_3d(penjualan_rfm, x=x_rfm, y=y_rfm, z=z_rfm, color=\"RFM Level\", labels=\"RFM Level\")\n",
        "fig.show()"
      ],
      "metadata": {
        "id": "fbyb7lShKmju"
      },
      "execution_count": null,
      "outputs": []
    },
    {
      "cell_type": "code",
      "source": [],
      "metadata": {
        "id": "ULc_4jFA-gjn"
      },
      "execution_count": null,
      "outputs": []
    },
    {
      "cell_type": "markdown",
      "source": [
        "# PLOTLY DASH"
      ],
      "metadata": {
        "id": "R-XMx7YR-qVt"
      }
    },
    {
      "cell_type": "code",
      "source": [
        "!pip install dash\n"
      ],
      "metadata": {
        "id": "jC0NqWWP-wxM"
      },
      "execution_count": null,
      "outputs": []
    },
    {
      "cell_type": "code",
      "source": [
        "from google.colab import drive\n",
        "drive.mount('/content/gdrive')"
      ],
      "metadata": {
        "id": "u5KrpCK-JS28"
      },
      "execution_count": null,
      "outputs": []
    },
    {
      "cell_type": "code",
      "source": [],
      "metadata": {
        "id": "UE1cezKMJ5jD"
      },
      "execution_count": null,
      "outputs": []
    },
    {
      "cell_type": "code",
      "source": [
        "from dash import Dash, html, dcc, callback, Output, Input\n",
        "import plotly.express as px\n",
        "import pandas as pd\n",
        "import plotly.graph_objs as go\n",
        "import numpy as np\n",
        "import dash\n",
        "from dash import dcc\n",
        "import dash_core_components as dcc\n",
        "\n",
        "\n",
        "df = pd.read_csv('/content/gdrive/MyDrive/Skripsi/Online-Retail.csv')\n",
        "\n",
        "app = Dash(__name__)\n",
        "\n",
        "\n",
        "app.layout = html.Div([\n",
        "    html.Div(children='Hello World'),\n",
        "    dcc.Graph(\n",
        "        id=\"scatter_chart\",\n",
        "        figure = {\n",
        "            'penjualan' : [\n",
        "                go.Scatter(\n",
        "                    x = penjualan_rfm.Frequency_zscore,\n",
        "                    y = penjualan_rfm.Monetary_zscore,\n",
        "                    mode = 'markers'\n",
        "                )\n",
        "            ],\n",
        "            'layout' :go.Layout(\n",
        "              title = 'scatterplot',\n",
        "              xaxis = {'title':'Frequency'},\n",
        "              yaxis = {'title':'Monetary'}\n",
        "            )\n",
        "        }\n",
        "    ),\n",
        "    dcc.Graph(\n",
        "        id='Description',\n",
        "        figure=fig\n",
        "    ),\n",
        "    dcc.Graph(figure=px.histogram(df, x='InvoiceDate', y='UnitPrice', histfunc='avg')),\n",
        "    dcc.Graph(id='graph-content')\n",
        "])\n",
        "\n",
        "@callback(\n",
        "    Output('graph-content', 'figure'),\n",
        "    Input('dropdown-selection', 'value')\n",
        ")\n",
        "def update_graph(value):\n",
        "    dff = df[df.country==value]\n",
        "    return px.line(dff, x='InvoiceDate', y='UnitPrice')\n",
        "\n",
        "if __name__ == '__main__':\n",
        "    app.run(debug=True)\n",
        "    app.run_server(port=1404)\n"
      ],
      "metadata": {
        "id": "bTlAQj6g_8Wv"
      },
      "execution_count": null,
      "outputs": []
    }
  ],
  "metadata": {
    "colab": {
      "provenance": [],
      "toc_visible": true
    },
    "kernelspec": {
      "display_name": "Python 3",
      "name": "python3"
    },
    "language_info": {
      "name": "python"
    }
  },
  "nbformat": 4,
  "nbformat_minor": 0
}